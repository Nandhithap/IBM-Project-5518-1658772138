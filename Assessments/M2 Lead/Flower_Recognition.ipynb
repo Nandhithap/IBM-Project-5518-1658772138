{
 "cells": [
  {
   "cell_type": "code",
   "execution_count": 23,
   "id": "18f29f09",
   "metadata": {},
   "outputs": [],
   "source": [
    "#Importing libraries"
   ]
  },
  {
   "cell_type": "code",
   "execution_count": 69,
   "id": "a26290c6",
   "metadata": {},
   "outputs": [],
   "source": [
    "import numpy as np\n",
    "import tensorflow as tf\n",
    "from keras.preprocessing.image import ImageDataGenerator"
   ]
  },
  {
   "cell_type": "code",
   "execution_count": 70,
   "id": "e1143dff",
   "metadata": {},
   "outputs": [],
   "source": [
    "#Data Processing"
   ]
  },
  {
   "cell_type": "code",
   "execution_count": 71,
   "id": "547bb3da",
   "metadata": {},
   "outputs": [],
   "source": [
    "#Training Image Processing"
   ]
  },
  {
   "cell_type": "code",
   "execution_count": 72,
   "id": "f83da742",
   "metadata": {},
   "outputs": [
    {
     "name": "stdout",
     "output_type": "stream",
     "text": [
      "Found 3278 images belonging to 5 classes.\n"
     ]
    }
   ],
   "source": [
    "train_datagen = ImageDataGenerator(rescale=1./255,\n",
    "                shear_range=0.2,\n",
    "                zoom_range=0.2,\n",
    "                horizontal_flip=True)\n",
    "training_set = train_datagen.flow_from_directory('training_set',target_size=(64,64), batch_size=32, class_mode='categorical')"
   ]
  },
  {
   "cell_type": "code",
   "execution_count": 73,
   "id": "f085a419",
   "metadata": {},
   "outputs": [],
   "source": [
    "#Test Image processing"
   ]
  },
  {
   "cell_type": "code",
   "execution_count": 74,
   "id": "b0aa779f",
   "metadata": {},
   "outputs": [
    {
     "name": "stdout",
     "output_type": "stream",
     "text": [
      "Found 1039 images belonging to 5 classes.\n"
     ]
    }
   ],
   "source": [
    "test_datagen= ImageDataGenerator(rescale=1./255)\n",
    "test_set = test_datagen.flow_from_directory('test_set',target_size=(64,64), batch_size=32, class_mode='categorical')"
   ]
  },
  {
   "cell_type": "code",
   "execution_count": 75,
   "id": "f86703a0",
   "metadata": {},
   "outputs": [],
   "source": [
    "#Building Model"
   ]
  },
  {
   "cell_type": "code",
   "execution_count": 76,
   "id": "9d53c524",
   "metadata": {},
   "outputs": [],
   "source": [
    "cnn= tf.keras.models.Sequential()"
   ]
  },
  {
   "cell_type": "code",
   "execution_count": 77,
   "id": "f06c5fc9",
   "metadata": {},
   "outputs": [],
   "source": [
    "#Building Convolution layer"
   ]
  },
  {
   "cell_type": "code",
   "execution_count": 78,
   "id": "dcf09911",
   "metadata": {},
   "outputs": [],
   "source": [
    "cnn.add(tf.keras.layers.Conv2D(filters=64,kernel_size=3,activation='relu',input_shape=[64,64,3]))   #Convolution layer\n",
    "cnn.add(tf.keras.layers.MaxPool2D(pool_size=2,strides=2))      #Pooling"
   ]
  },
  {
   "cell_type": "code",
   "execution_count": 79,
   "id": "07e4171d",
   "metadata": {},
   "outputs": [],
   "source": [
    "cnn.add(tf.keras.layers.Conv2D(filters=64,kernel_size=3,activation='relu'))\n",
    "cnn.add(tf.keras.layers.MaxPool2D(pool_size=2,strides=2))"
   ]
  },
  {
   "cell_type": "code",
   "execution_count": 80,
   "id": "48e1dd37",
   "metadata": {},
   "outputs": [],
   "source": [
    "cnn.add(tf.keras.layers.Dropout(0.5))"
   ]
  },
  {
   "cell_type": "code",
   "execution_count": 81,
   "id": "3a4b5e04",
   "metadata": {},
   "outputs": [],
   "source": [
    "cnn.add(tf.keras.layers.Flatten())"
   ]
  },
  {
   "cell_type": "code",
   "execution_count": 82,
   "id": "15f10792",
   "metadata": {},
   "outputs": [],
   "source": [
    "cnn.add(tf.keras.layers.Dense(units=128,activation='relu'))"
   ]
  },
  {
   "cell_type": "code",
   "execution_count": 83,
   "id": "79cf2b13",
   "metadata": {},
   "outputs": [],
   "source": [
    "cnn.add(tf.keras.layers.Dense(units=5,activation='softmax'))"
   ]
  },
  {
   "cell_type": "code",
   "execution_count": 84,
   "id": "07caa1fc",
   "metadata": {},
   "outputs": [],
   "source": [
    "cnn.compile(optimizer='rmsprop',loss='categorical_crossentropy',metrics=['accuracy'])"
   ]
  },
  {
   "cell_type": "code",
   "execution_count": 85,
   "id": "f7d0e0ad",
   "metadata": {},
   "outputs": [
    {
     "name": "stdout",
     "output_type": "stream",
     "text": [
      "Epoch 1/30\n",
      "103/103 [==============================] - 35s 331ms/step - loss: 1.4266 - accuracy: 0.3813 - val_loss: 1.1989 - val_accuracy: 0.5149\n",
      "Epoch 2/30\n",
      "103/103 [==============================] - 33s 317ms/step - loss: 1.1291 - accuracy: 0.5488 - val_loss: 1.0944 - val_accuracy: 0.5736\n",
      "Epoch 3/30\n",
      "103/103 [==============================] - 33s 323ms/step - loss: 1.0176 - accuracy: 0.6016 - val_loss: 0.9697 - val_accuracy: 0.6323\n",
      "Epoch 4/30\n",
      "103/103 [==============================] - 33s 323ms/step - loss: 0.9585 - accuracy: 0.6309 - val_loss: 1.0285 - val_accuracy: 0.5823\n",
      "Epoch 5/30\n",
      "103/103 [==============================] - 33s 323ms/step - loss: 0.8913 - accuracy: 0.6531 - val_loss: 0.9385 - val_accuracy: 0.6343\n",
      "Epoch 6/30\n",
      "103/103 [==============================] - 33s 324ms/step - loss: 0.8568 - accuracy: 0.6589 - val_loss: 0.8909 - val_accuracy: 0.6795\n",
      "Epoch 7/30\n",
      "103/103 [==============================] - 33s 323ms/step - loss: 0.8209 - accuracy: 0.6693 - val_loss: 1.1313 - val_accuracy: 0.5890\n",
      "Epoch 8/30\n",
      "103/103 [==============================] - 32s 313ms/step - loss: 0.7836 - accuracy: 0.6998 - val_loss: 0.8676 - val_accuracy: 0.6795\n",
      "Epoch 9/30\n",
      "103/103 [==============================] - 31s 300ms/step - loss: 0.7472 - accuracy: 0.7096 - val_loss: 0.9217 - val_accuracy: 0.6679\n",
      "Epoch 10/30\n",
      "103/103 [==============================] - 30s 296ms/step - loss: 0.7325 - accuracy: 0.7248 - val_loss: 0.9326 - val_accuracy: 0.6391\n",
      "Epoch 11/30\n",
      "103/103 [==============================] - 31s 300ms/step - loss: 0.7020 - accuracy: 0.7398 - val_loss: 1.0401 - val_accuracy: 0.6372\n",
      "Epoch 12/30\n",
      "103/103 [==============================] - 31s 304ms/step - loss: 0.6666 - accuracy: 0.7489 - val_loss: 0.9099 - val_accuracy: 0.6622\n",
      "Epoch 13/30\n",
      "103/103 [==============================] - 32s 307ms/step - loss: 0.6563 - accuracy: 0.7553 - val_loss: 1.1648 - val_accuracy: 0.6295\n",
      "Epoch 14/30\n",
      "103/103 [==============================] - 31s 304ms/step - loss: 0.6358 - accuracy: 0.7538 - val_loss: 0.9421 - val_accuracy: 0.6535\n",
      "Epoch 15/30\n",
      "103/103 [==============================] - 32s 310ms/step - loss: 0.6189 - accuracy: 0.7682 - val_loss: 0.8681 - val_accuracy: 0.6882\n",
      "Epoch 16/30\n",
      "103/103 [==============================] - 31s 301ms/step - loss: 0.5735 - accuracy: 0.7874 - val_loss: 0.9175 - val_accuracy: 0.6997\n",
      "Epoch 17/30\n",
      "103/103 [==============================] - 29s 281ms/step - loss: 0.5659 - accuracy: 0.7935 - val_loss: 0.8772 - val_accuracy: 0.6862\n",
      "Epoch 18/30\n",
      "103/103 [==============================] - 33s 315ms/step - loss: 0.5592 - accuracy: 0.7904 - val_loss: 0.8315 - val_accuracy: 0.7180\n",
      "Epoch 19/30\n",
      "103/103 [==============================] - 31s 302ms/step - loss: 0.5537 - accuracy: 0.7910 - val_loss: 0.7949 - val_accuracy: 0.7093\n",
      "Epoch 20/30\n",
      "103/103 [==============================] - 31s 301ms/step - loss: 0.5194 - accuracy: 0.8045 - val_loss: 0.8603 - val_accuracy: 0.7036\n",
      "Epoch 21/30\n",
      "103/103 [==============================] - 34s 330ms/step - loss: 0.5413 - accuracy: 0.8020 - val_loss: 0.9351 - val_accuracy: 0.6891\n",
      "Epoch 22/30\n",
      "103/103 [==============================] - 33s 322ms/step - loss: 0.4984 - accuracy: 0.8115 - val_loss: 0.8462 - val_accuracy: 0.7132\n",
      "Epoch 23/30\n",
      "103/103 [==============================] - 33s 321ms/step - loss: 0.4752 - accuracy: 0.8231 - val_loss: 0.9173 - val_accuracy: 0.6939\n",
      "Epoch 24/30\n",
      "103/103 [==============================] - 33s 320ms/step - loss: 0.4745 - accuracy: 0.8258 - val_loss: 0.8550 - val_accuracy: 0.7026\n",
      "Epoch 25/30\n",
      "103/103 [==============================] - 33s 319ms/step - loss: 0.4617 - accuracy: 0.8298 - val_loss: 1.0153 - val_accuracy: 0.6766\n",
      "Epoch 26/30\n",
      "103/103 [==============================] - 33s 316ms/step - loss: 0.4523 - accuracy: 0.8331 - val_loss: 0.8944 - val_accuracy: 0.6910\n",
      "Epoch 27/30\n",
      "103/103 [==============================] - 33s 318ms/step - loss: 0.4362 - accuracy: 0.8398 - val_loss: 0.9613 - val_accuracy: 0.7122\n",
      "Epoch 28/30\n",
      "103/103 [==============================] - 33s 320ms/step - loss: 0.4258 - accuracy: 0.8392 - val_loss: 1.0502 - val_accuracy: 0.7113\n",
      "Epoch 29/30\n",
      "103/103 [==============================] - 33s 320ms/step - loss: 0.4345 - accuracy: 0.8417 - val_loss: 1.1447 - val_accuracy: 0.6785\n",
      "Epoch 30/30\n",
      "103/103 [==============================] - 33s 316ms/step - loss: 0.4172 - accuracy: 0.8487 - val_loss: 0.9629 - val_accuracy: 0.7084\n"
     ]
    },
    {
     "data": {
      "text/plain": [
       "<keras.callbacks.History at 0x1b1e5757730>"
      ]
     },
     "execution_count": 85,
     "metadata": {},
     "output_type": "execute_result"
    }
   ],
   "source": [
    "cnn.fit(x=training_set,validation_data=test_set,epochs=30 )"
   ]
  },
  {
   "cell_type": "code",
   "execution_count": 86,
   "id": "0c10992f",
   "metadata": {},
   "outputs": [],
   "source": [
    "#preprocess new image"
   ]
  },
  {
   "cell_type": "code",
   "execution_count": 95,
   "id": "94db86da",
   "metadata": {},
   "outputs": [
    {
     "name": "stdout",
     "output_type": "stream",
     "text": [
      "1/1 [==============================] - 0s 35ms/step\n"
     ]
    }
   ],
   "source": [
    "from keras.preprocessing import image\n",
    "test_image = tf.keras.utils.load_img('Prediction/rose1.jpeg', target_size=(64,64))\n",
    "test_image = tf.keras.utils.img_to_array(test_image)\n",
    "test_image = np.expand_dims(test_image, axis=0)\n",
    "result=cnn.predict(test_image)"
   ]
  },
  {
   "cell_type": "code",
   "execution_count": 96,
   "id": "d1ec5de9",
   "metadata": {},
   "outputs": [
    {
     "data": {
      "text/plain": [
       "{'daisy': 0, 'dandelion': 1, 'rose': 2, 'sunflower': 3, 'tulip': 4}"
      ]
     },
     "execution_count": 96,
     "metadata": {},
     "output_type": "execute_result"
    }
   ],
   "source": [
    "training_set.class_indices"
   ]
  },
  {
   "cell_type": "code",
   "execution_count": 97,
   "id": "c5fa0b80",
   "metadata": {},
   "outputs": [
    {
     "name": "stdout",
     "output_type": "stream",
     "text": [
      "[[0. 0. 1. 0. 0.]]\n"
     ]
    }
   ],
   "source": [
    "print(result)"
   ]
  },
  {
   "cell_type": "code",
   "execution_count": 98,
   "id": "f02a3ba2",
   "metadata": {},
   "outputs": [
    {
     "name": "stdout",
     "output_type": "stream",
     "text": [
      "Rose\n"
     ]
    }
   ],
   "source": [
    "if result[0][0]==1:\n",
    "    print('Daisy')\n",
    "elif result[0][1]==1:\n",
    "    print('Dandelion')\n",
    "elif result[0][2]==1:\n",
    "    print('Rose')\n",
    "elif result[0][3]==1:\n",
    "    print('Sunflower')\n",
    "elif result[0][4]==1:\n",
    "    print('Tulip')"
   ]
  },
  {
   "cell_type": "code",
   "execution_count": null,
   "id": "b562793b",
   "metadata": {},
   "outputs": [],
   "source": []
  }
 ],
 "metadata": {
  "kernelspec": {
   "display_name": "Python 3 (ipykernel)",
   "language": "python",
   "name": "python3"
  },
  "language_info": {
   "codemirror_mode": {
    "name": "ipython",
    "version": 3
   },
   "file_extension": ".py",
   "mimetype": "text/x-python",
   "name": "python",
   "nbconvert_exporter": "python",
   "pygments_lexer": "ipython3",
   "version": "3.9.12"
  }
 },
 "nbformat": 4,
 "nbformat_minor": 5
}
